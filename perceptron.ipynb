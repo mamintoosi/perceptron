{
 "cells": [
  {
   "cell_type": "markdown",
   "metadata": {},
   "source": [
    "# Perceptron from scratch\n",
    "<img src=\"perceptron_new.png\">\n",
    "\n",
    "The single-layer [Perceptron](https://en.wikipedia.org/wiki/Perceptron) is the simplest of the artificial neural networks (ANNs).  It was developed by American psychologist [Frank Rosenblatt](https://en.wikipedia.org/wiki/Frank_Rosenblatt) in the 1950s.  \n",
    "\n",
    "The Perceptron is a linear classifier used for binary predictions.  This means that in order for it to work, the data must be [linearly separable](https://en.wikipedia.org/wiki/Linear_separability).\n",
    "\n",
    "Although the Perceptron is only applicable to linearly separable data, the more detailed [Multilayered Perceptron](https://en.wikipedia.org/wiki/Multilayer_perceptron) can be applied to more complicated nonlinear datasets.  This includes applications in areas such as speech recognition, image processing, and financial predictions just to name a few.\n",
    "\n",
    "<img src=\"linsep_new.png\">\n",
    "##How It Works\n",
    "The perceptron works by \"learning\" a series of weights, corresponding to the input features.  These input features are vectors of the available data.  For example, if we were trying to classify whether an animal is a cat or dog, $x_1$ might be weight, $x_2$ might be height, and $x_3$ might be length.  Each pair of weights and input features is multiplied together, and then the results are summed.  If the summation is above a certain threshold, we predict one class, otherwise the prediction belongs to a different class.  For example, we could set the threshold at 0.  If the summation is greater than 0, the prediction is a 1 (dog), otherwise it's a 0 (cat).  \n",
    "\n",
    "The final step is to check if our predictions were classified correctly.  If they were not, then the weights are updated using a learning rate.  This process continues for a certain number of iterations, known as \"epochs.\"  The goal is to determine the weights that produce a linear decision boundary that correctly classifies the predictions.\n",
    "\n",
    "\n",
    "##Perceptron Algorithm\n",
    "The Perceptron is pretty straightforward.  Here's the basics:\n",
    "\n",
    "1.  Initialize the weight vector $w$ , set a threshold $z$ for the activation function, number of time steps $t$ for computation, and a learning rate $\\eta$.\n",
    "\n",
    "2.  Calculate the output at the first iteration $n=1$ for the first training sample $i=1$ for the $k$ features:$$ f = \\sum_{j=0}^k w^1_j x_{1j} = w^1_0 x_{10}+w^1_1 x_{11}+w^1_2 x_{12}+...+ w^1_k x_{1k} $$  $$\\hat{y}^1_1 =\\begin{cases}\n",
    "    1 & \\text{if }f \\gt z\\\\\n",
    "    0 & \\text{otherwise}.\n",
    "  \\end{cases} $$  $$ $$\n",
    "  \n",
    "3.  Update the $k$ weights  \n",
    "$$w^2_0 = w^1_0 + \\eta [y_1-\\hat{y}^1_1]x_{10}$$  $$ $$ \n",
    "$$w^2_1 = w^1_1 + \\eta [y_1-\\hat{y}^1_1]x_{11}$$  $$ $$ \n",
    "$$w^2_2 = w^1_2 + \\eta [y_1-\\hat{y}^1_1]x_{12}$$  \n",
    "$$ \\vdots $$\n",
    "$$ w^2_k = w^1_k + \\eta [y_1-\\hat{y}^1_1]x_{1k} $$ $$ $$ \n",
    "4.  Increment the time-step to $n=n+1$.  If the final time-step $t$ hasn't been reached, go back to step 2., repeating the process for the next training sample $i$.  \n",
    "\n",
    "It should be noted that this isn't exactly identical to Rosenblatt's original Perceptron, which used the $signum function$ for activation.$$ $$ $$sgn(f) =\\begin{cases}\n",
    "    1 & \\text{if }f \\gt 0\\\\\n",
    "    -1 & \\text{if }f \\lt 0.\n",
    "  \\end{cases} $$ $$ $$\n",
    "The form we'll be implementing allows us some flexibility in choosing a threshold for our activation function.  It also allows us to implement $1$ and $0$ for the outputs, which is typical for binary classification.\n",
    "\n",
    "##Stochastic Gradient Descent\n",
    "It's interesting to note that the Perceptron is identical to Stochastic Gradient Descent (SGD) on the following Sum-Of-Squared Error (SSE) loss function $J(w)$ where $y_i$ is the true output, $\\hat{y}_i(w)$ is the predicted output, and $w$ is the weight: $$ J(w) = \\sum_{i=1}^m{\\frac{1}2(y_i-\\hat{y}_i(w))^2}$$\n",
    "\n",
    "We start by approximating the gradient at a single point $i$ using SGD:  \n",
    "\n",
    "$$w^{n+1}_i = w^{n}_i - \\eta \\nabla J(w^n_i)$$\n",
    "\n",
    "As with the Perceptron, $\\eta$ is the learning rate, $i$ is a training sample, and $n$ is a given iteration.  We can reshape this by taking the partial derivative of the loss function at a particular training sample $i$ with respect to $w^n_i$.\n",
    "$$ $$\n",
    "$$\\nabla J(w^n_i)=\\frac{\\partial J(w^n_i)}{\\partial w^n_i}$$ $$ $$\n",
    "$$=\\frac{\\partial }{\\partial w^n_i} {\\frac{1}2[y_i-\\hat{y}^n_i(w^n_i)]^2} $$ $$ $$\n",
    "$$=2\\frac{1}2 [y_i-\\hat{y}^n_i(w^n_i)]\\frac{\\partial }{\\partial w^n_i} [{-\\hat{y}^n_i}(w^n_i)]$$ $$ $$\n",
    "$$=2\\frac{1}2 [y_i-\\hat{y}^n_i(w^n_i)]\\frac{\\partial }{\\partial w^n_i} [{-w^n_i} x_{ij}]$$ $$ $$\n",
    "$$={-[y_i-\\hat{y}^n_i(w^n_i)]}x_{ij}$$ $$ $$\n",
    "\n",
    "\n",
    "Now we can plug this back into the original SGD equation.\n",
    "\n",
    "$$w^{n+1}_i = w^n_i - \\eta [{-[y_i-\\hat{y}^n_i(w^n_i)]}x_{ij}] $$ $$ $$\n",
    "$$w^{n+1}_i = w^n_i + \\eta [y_i-\\hat{y}^n_i(w^n_i)]x_{ij} $$\n",
    "\n",
    "If we plug in $n=1$ for the first iteration and $i=k$ for the $k^{th}$ training sample, then the form is identical to the Perceptron in the previous section.\n",
    "\n",
    "$$w^2_k = w^1_k + \\eta [y_1-\\hat{y}^1_1]x_{1k}$$\n",
    "\n",
    "Depending on the loss function used, SGD can take on many other forms.  For additional details about SGD using other loss functions and variations, [here is a good resource](https://en.wikipedia.org/wiki/Stochastic_gradient_descent). \n",
    "\n",
    "##Step-by-step Example\n",
    "A good way to understand exactly how the Perceptron works is to walk through a simple example.  I'm going to use a [NAND gate](https://en.wikipedia.org/wiki/NAND_gate) model for my example, which has a very small linearly separable dataset.  Given the two features $x_1$ and $x_2$, here's what the outputs $y$ are for the NAND gate:\n",
    "\n",
    "|$x_1$|$x_2$|$y$|\n",
    "|:---:|:---:|:---:|\n",
    "|0|0|1|\n",
    "|0|1|1|\n",
    "|1|0|1|\n",
    "|1|1|0|\n",
    "\n",
    "If I break the features and output into column vectors, here's what they look like: $$ $$ $$  x_{i1} = \\begin{bmatrix} x_{11}\\\\x_{21}\\\\x_{31}\\\\x_{41} \\end{bmatrix} = \\begin{bmatrix} 0\\\\0\\\\1\\\\1 \\end{bmatrix}$$ $$ $$\n",
    "$$x_{i2} = \\begin{bmatrix} x_{12}\\\\x_{22}\\\\x_{32}\\\\x_{42} \\end{bmatrix} = \\begin{bmatrix} 0\\\\1\\\\0\\\\1 \\end{bmatrix} $$ $$ $$\n",
    "$$y_{i} = \\begin{bmatrix} y_{1}\\\\y_{2}\\\\y_{3}\\\\y_{4} \\end{bmatrix} = \\begin{bmatrix} 1\\\\1\\\\1\\\\0 \\end{bmatrix} $$\n",
    "\n",
    "I'm also going to introduce a dummy feature $x_{i0}$ of ones, which will be used to calculate the [bias](https://stats.stackexchange.com/questions/185911/why-are-bias-nodes-used-in-neural-networks) term in the model.  The bias is an additional term that allows for flexibility in fitting the model.  It allows all input features to be $0$, while still being able to fit the model. $$ $$ $$ x_{i0} = \\begin{bmatrix} x_{10}\\\\x_{20}\\\\x_{30}\\\\x_{40} \\end{bmatrix} = \\begin{bmatrix} 1\\\\1\\\\1\\\\1 \\end{bmatrix} $$\n",
    "\n",
    "Now I'm going to start working through the algorithm outlined above, step-by-step.\n",
    "\n",
    "1.  I'm going to start by initializing the weight vector $w^n_i$ to zeros.  $$w^1_i = \\begin{bmatrix} w^1_0\\\\w^1_1\\\\w^1_2 \\end{bmatrix} = \\begin{bmatrix} 0\\\\0\\\\0 \\end{bmatrix}$$ $$ $$\n",
    "I'm going to set the threshold $z=0$, the number of time steps to run the algorithm $t=50$, and the learning rate $\\eta=0.1$.  Next I'm going to hop in to step 2. where the iterations begin.\n",
    "\n",
    "2.  Calculate the output at the first iteration $n=1$ for the first training sample $i=1$. $$ f = \\sum_{j=0}^2 w^1_j x_{1j} = w^1_0 x_{10}+w^1_1 x_{11}+w^1_2 x_{12}$$  $$ f = (0\\cdot1) + (0\\cdot0) + (0\\cdot 0) = 0$$\n",
    "\n",
    "    Now I'll make the actual prediction using my activation function.\n",
    "$$\\hat{y}^1_1 =\\begin{cases}\n",
    "    1 & \\text{if }f \\gt z\\\\\n",
    "    0 & \\text{otherwise}.\n",
    "  \\end{cases} $$\n",
    "  $$\\hat{y}^1_1=0$$\n",
    "3.  Update the weights  \n",
    "$$w^2_0 = w^1_0 + \\eta [y_1-\\hat{y}^1_1]x_{10} $$ $$ = 0 + 0.1[1-0]1 $$ $$= 0.1$$ $$ $$ \n",
    "$$w^2_1 = w^1_1 + \\eta [y_1-\\hat{y}^1_1]x_{11}$$  $$ = 0 + 0.1[1-0]0 $$ $$= 0$$ $$ $$\n",
    "$$w^2_2 = w^1_2 + \\eta [y_1-\\hat{y}^1_1]x_{12}$$  $$ = 0 + 0.1[1-0]0 $$ $$= 0$$ $$ $$\n",
    "$$ w^2_i = \\begin{bmatrix}0.1\\\\0\\\\0\\end{bmatrix}$$\n",
    "4.  Increment the time step to $n=n+1$, therefore $n=2$.  Since the time step is not equal to 50, I jump back to step 2. and keep going.\n",
    "\n",
    "Since there are four training samples, after going through four iterations I can evalualte the SSE loss function to see if the model has converged.  Looping through all of the training samples is also known as an \"epoch.\"  Since my dataset has four training samples, there's four iterations in one epoch.  I won't write out all of the iterations, but you can find a spreadsheet where I did this by hand [here](https://github.com/jtsulliv/ML-from-scratch/tree/master/Neural-Networks) .  Based on my settings for threshold and learning rate, you should find that the model has converged after sixteen iterations, or four epochs, with these final weights:$$ $$  $$ w^n_i = \\begin{bmatrix} w^n_0\\\\w^n_1\\\\w^n_2 \\end{bmatrix} = \\begin{bmatrix} 0.2\\\\-0.2\\\\-0.1 \\end{bmatrix} $$\n",
    "\n",
    "##Python Implementation from Scratch\n",
    "\n",
    "In this section I'm going to implement the NAND model in Python.  This makes the Perceptron accessible to larger more complex datasets that a spreadsheet may not be able to handle.\n",
    "\n",
    "I'm going to be taking advantage of the [Numpy](http://www.numpy.org/) library to simplify some of the math operations, and the [Matplotlib](https://matplotlib.org/) library for plotting.\n",
    "\n"
   ]
  },
  {
   "cell_type": "code",
   "execution_count": 1,
   "metadata": {
    "collapsed": true
   },
   "outputs": [],
   "source": [
    "import numpy as np\n",
    "import matplotlib.pyplot as plt"
   ]
  },
  {
   "cell_type": "markdown",
   "metadata": {},
   "source": [
    "Next I'll enter in my feature data and the outputs."
   ]
  },
  {
   "cell_type": "code",
   "execution_count": 2,
   "metadata": {
    "collapsed": true
   },
   "outputs": [],
   "source": [
    "# NAND gate features\n",
    "# note: x0 is a dummy variable for the bias term\n",
    "#     x0  x1  x2\n",
    "x = [[1., 0., 0.],                                  \n",
    "     [1., 0., 1.],                                 \n",
    "     [1., 1., 0.],                                  \n",
    "     [1., 1., 1.]] \n",
    "\n",
    "\n",
    "# Desired outputs\n",
    "y = [1.,                                            \n",
    "     1.,                                            \n",
    "     1.,                                            \n",
    "     0.] "
   ]
  },
  {
   "cell_type": "markdown",
   "metadata": {},
   "source": [
    "Here is the full implementation of the perceptron function, where $z$ is the threshold, $eta$ is the learning rate, and $t$ is the number of iterations."
   ]
  },
  {
   "cell_type": "code",
   "execution_count": 3,
   "metadata": {
    "collapsed": false
   },
   "outputs": [
    {
     "name": "stdout",
     "output_type": "stream",
     "text": [
      "The weights are:\n",
      "[ 0.2 -0.2 -0.1] \n",
      "\n",
      "The sum-of-squared erros are:\n",
      "[1.0, 1.5, 1.5, 0.0, 0.0, 0.0, 0.0, 0.0, 0.0, 0.0, 0.0, 0.0, 0.0]\n"
     ]
    }
   ],
   "source": [
    "# Training the Perceptron\n",
    "#\n",
    "# x:   feature data \n",
    "# y:   outputs \n",
    "# z:   threshold\n",
    "# eta: learning rate\n",
    "# t:   number of iterations\n",
    "\n",
    "def perceptron_train(x, y, z, eta, t):\n",
    "    \n",
    "    # Initializing parameters for the Perceptron\n",
    "    w = np.zeros(len(x[0]))        # weights \n",
    "    n = 0                          \n",
    "    \n",
    "    # Initializing additional parameters to compute SSE\n",
    "    yhat_vec = np.ones(len(y))     # vector for predictions\n",
    "    errors = np.ones(len(y))       # vector for errors (actual - predictions)\n",
    "    J = []                         # vector for the SSE cost function\n",
    "     \n",
    "        \n",
    "    while n < t:                                  \n",
    "        for i in xrange(0, len(x)):                 \n",
    "            \n",
    "            # summation step\n",
    "            f = np.dot(x[i], w)                      \n",
    "                        \n",
    "            # activation function\n",
    "            if f > z:                               \n",
    "                yhat = 1.                               \n",
    "            else:                                   \n",
    "                yhat = 0. \n",
    "            yhat_vec[i] = yhat                              \n",
    "        \n",
    "            # updating the weights\n",
    "            for j in xrange(0, len(w)):             \n",
    "                w[j] = w[j] + eta*(y[i]-yhat)*x[i][j]\n",
    "                \n",
    "            n += 1     \n",
    "\n",
    "        \n",
    "        # computing the sum-of-squared errors\n",
    "        for i in xrange(0,len(y)):     \n",
    "           errors[i] = (y[i]-yhat_vec[i])**2\n",
    "        J.append(0.5*np.sum(errors))\n",
    "           \n",
    "    # function returns the weight vector, and sum-of-squared errors        \n",
    "    return w, J\n",
    "\n",
    "\n",
    "z = 0.0     # threshold\n",
    "eta = 0.1   # learning rate\n",
    "t = 50      # number of iterations\n",
    "\n",
    "print \"The weights are:\"\n",
    "print perceptron_train(x, y, z, eta, t)[0], \"\\n\"\n",
    "\n",
    "print \"The sum-of-squared erros are:\"\n",
    "print perceptron_train(x, y, z, eta, t)[1]"
   ]
  },
  {
   "cell_type": "markdown",
   "metadata": {},
   "source": [
    "The weights are identical to those from the spreadsheet calculations.  Another useful tool is to plot the error as a function of the epochs."
   ]
  },
  {
   "cell_type": "code",
   "execution_count": 4,
   "metadata": {
    "collapsed": false
   },
   "outputs": [
    {
     "data": {
      "text/plain": [
       "<matplotlib.text.Text at 0xa899ba8>"
      ]
     },
     "execution_count": 4,
     "metadata": {},
     "output_type": "execute_result"
    },
    {
     "data": {
      "image/png": "[encoded data removed]",
      "text/plain": [
       "<matplotlib.figure.Figure at 0xa7550b8>"
      ]
     },
     "metadata": {},
     "output_type": "display_data"
    }
   ],
   "source": [
    "J = perceptron_train(x, y, z, eta, t)[1]     # pulling out the sum-of-squared errors from the tuple\n",
    "epoch = np.linspace(1,len(J),len(J))\n",
    "\n",
    "%matplotlib inline  \n",
    "plt.plot(epoch, J)\n",
    "plt.xlabel('Epoch')\n",
    "plt.ylabel('Sum-of-Squared Error')\n",
    "plt.title('Perceptron Convergence')\n",
    "    "
   ]
  },
  {
   "cell_type": "markdown",
   "metadata": {},
   "source": [
    "I can see from the results that by the fourth epoch the results have converged.  This is also consistent with the results from the spreadsheet.  \n",
    "\n",
    "I set the threshold and weights arbitrarily, so these are things that I can investigate.  If I change the learning rate, say to 0.5, the weights and number of epochs to convergence change."
   ]
  },
  {
   "cell_type": "code",
   "execution_count": 5,
   "metadata": {
    "collapsed": false
   },
   "outputs": [
    {
     "name": "stdout",
     "output_type": "stream",
     "text": [
      "The weights are:\n",
      "[ 1.5 -1.  -0.5] \n",
      "\n",
      "The sum-of-squared erros are:\n",
      "[1.0, 1.5, 1.5, 1.0, 0.5, 0.0, 0.0, 0.0, 0.0, 0.0, 0.0, 0.0, 0.0]\n"
     ]
    },
    {
     "data": {
      "text/plain": [
       "<matplotlib.text.Text at 0xab5c2b0>"
      ]
     },
     "execution_count": 5,
     "metadata": {},
     "output_type": "execute_result"
    },
    {
     "data": {
      "image/png": "[encoded data removed]",
      "text/plain": [
       "<matplotlib.figure.Figure at 0xa9cde48>"
      ]
     },
     "metadata": {},
     "output_type": "display_data"
    }
   ],
   "source": [
    "eta = 0.5     # new learning rate\n",
    "z = 0.0\n",
    "\n",
    "print \"The weights are:\"\n",
    "print perceptron_train(x, y, z, eta, t)[0], \"\\n\"\n",
    "\n",
    "J = perceptron_train(x, y, z, eta, t)[1]\n",
    "epoch = np.linspace(1,len(J),len(J))\n",
    "print \"The sum-of-squared erros are:\"\n",
    "print J\n",
    "\n",
    "%matplotlib inline\n",
    "plt.plot(epoch, J)\n",
    "plt.xlabel('Epoch')\n",
    "plt.ylabel('Sum-of-Squared Error')\n",
    "plt.title('Perceptron Convergence')"
   ]
  },
  {
   "cell_type": "markdown",
   "metadata": {},
   "source": [
    "I can also investigate the threshold.  Here is what the results look like using the original learning rate of 0.1, and changing the threshold to 0.5."
   ]
  },
  {
   "cell_type": "code",
   "execution_count": 6,
   "metadata": {
    "collapsed": false
   },
   "outputs": [
    {
     "name": "stdout",
     "output_type": "stream",
     "text": [
      "The weights are:\n",
      "[ 0.8 -0.2 -0.1] \n",
      "\n",
      "The sum-of-squared erros are:\n",
      "[1.5, 1.5, 1.5, 1.0, 1.5, 1.5, 1.0, 0.5, 0.0, 0.0, 0.0, 0.0, 0.0]\n"
     ]
    },
    {
     "data": {
      "text/plain": [
       "<matplotlib.text.Text at 0xbb256a0>"
      ]
     },
     "execution_count": 6,
     "metadata": {},
     "output_type": "execute_result"
    },
    {
     "data": {
      "image/png": "[encoded data removed]",
      "text/plain": [
       "<matplotlib.figure.Figure at 0xba9c550>"
      ]
     },
     "metadata": {},
     "output_type": "display_data"
    }
   ],
   "source": [
    "eta = 0.1     \n",
    "z = 0.5     # new threshold\n",
    "\n",
    "print \"The weights are:\"\n",
    "print perceptron_train(x, y, z, eta, t)[0], \"\\n\"\n",
    "\n",
    "J = perceptron_train(x, y, z, eta, t)[1]\n",
    "epoch = np.linspace(1,len(J),len(J))\n",
    "print \"The sum-of-squared erros are:\"\n",
    "print J\n",
    "\n",
    "%matplotlib inline\n",
    "plt.plot(epoch, J)\n",
    "plt.xlabel('Epoch')\n",
    "plt.ylabel('Sum-of-Squared Error')\n",
    "plt.title('Perceptron Convergence')"
   ]
  },
  {
   "cell_type": "markdown",
   "metadata": {},
   "source": [
    "This model performed slightly worse than the previous two, so maybe I don't want to use these paramaters.  \n",
    "\n",
    "It's important to keep in mind that I'm only using a training set in this example.  I haven't actually made predictions on a test set hidden from the model.  Training and making predictions on the same dataset isn't a good idea, as it can lead to overfitting.  In the next section I'll work through another example where I split the data into a training set and a test set."
   ]
  },
  {
   "cell_type": "markdown",
   "metadata": {},
   "source": [
    "##A More Detailed Example"
   ]
  },
  {
   "cell_type": "markdown",
   "metadata": {},
   "source": [
    "In this section I'm going to use a larger data set to train/test my Perceptron.  I'll also compare my results with an implementation from [scikit-learn](http://scikit-learn.org/stable/modules/generated/sklearn.linear_model.Perceptron.html) as a validation of my model.  \n",
    "\n",
    "###Synthetic Dataset\n",
    "In order to test my Perceptron for comparison with the scikit-learn implementation, I'm going to first create a dataset.  Since I'll be plotting the intercept, I'm going to put in a dummy feature in the first column, which will be ones.  This way the model will learn the weights for the features, as well as the bias term for the intercept."
   ]
  },
  {
   "cell_type": "code",
   "execution_count": 7,
   "metadata": {
    "collapsed": false
   },
   "outputs": [
    {
     "data": {
      "text/plain": [
       "<matplotlib.collections.PathCollection at 0xbdda278>"
      ]
     },
     "execution_count": 7,
     "metadata": {},
     "output_type": "execute_result"
    },
    {
     "data": {
      "image/png": "[encoded data removed]",
      "text/plain": [
       "<matplotlib.figure.Figure at 0xbb1a048>"
      ]
     },
     "metadata": {},
     "output_type": "display_data"
    }
   ],
   "source": [
    "import numpy as np\n",
    "import matplotlib.pyplot as plt \n",
    "%matplotlib inline\n",
    "\n",
    "# setting the random seed to reproduce results\n",
    "np.random.seed(5)\n",
    "\n",
    "# number of observations\n",
    "obs = 1000\n",
    "\n",
    "# generating synthetic data from multivariate normal distribution  \n",
    "class_zeros = np.random.multivariate_normal([0,0], [[1.,.95],[.95,1.]], obs)\n",
    "class_ones = np.random.multivariate_normal([1,5], [[1.,.85],[.85,1.]], obs)\n",
    "\n",
    "# generating a column of ones as a dummy feature to create an intercept\n",
    "intercept = np.ones((2*obs,1))\n",
    "\n",
    "# vertically stacking the two classes \n",
    "features = np.vstack((class_zeros, class_ones)).astype(np.float32)\n",
    "\n",
    "# putting in the dummy feature column\n",
    "features = np.hstack((intercept, features))\n",
    "\n",
    "# creating the labels for the two classes\n",
    "label_zeros = np.zeros((obs,1))\n",
    "label_ones = np.ones((obs,1))\n",
    "\n",
    "# stacking the labels, and then adding them to the dataset\n",
    "labels = np.vstack((label_zeros,label_ones))\n",
    "dataset = np.hstack((features,labels))\n",
    "\n",
    "# scatter plot to visualize the two classes (red=1, blue=0)\n",
    "plt.scatter(features[:,1], features[:,2], c = labels)"
   ]
  },
  {
   "cell_type": "markdown",
   "metadata": {},
   "source": [
    "### Splitting the Dataset \n",
    "I didn't split the data in the NAND example into training and test sets because I was just illustrating a simple example of the Perceptron algorithm.  In this example I'm going to randomly sample 70% of the dataset for the training set, and predictions will be made on the remaining 30%.  Splitting the dataset into training and test sets is good practice to try and avoid overfitting."
   ]
  },
  {
   "cell_type": "code",
   "execution_count": 8,
   "metadata": {
    "collapsed": false
   },
   "outputs": [],
   "source": [
    "# shuffling the data to make the sampling random\n",
    "np.random.shuffle(dataset)\n",
    "\n",
    "# splitting the data into train/test sets\n",
    "train = dataset[0:(0.7*(obs*2))]\n",
    "test = dataset[(0.7*(obs*2)):(obs*2)]"
   ]
  },
  {
   "cell_type": "markdown",
   "metadata": {
    "collapsed": true
   },
   "source": [
    "### Training the Model\n",
    "\n",
    "The next step is to train the model to determine the weights."
   ]
  },
  {
   "cell_type": "code",
   "execution_count": 9,
   "metadata": {
    "collapsed": false
   },
   "outputs": [
    {
     "name": "stdout",
     "output_type": "stream",
     "text": [
      "The weights are:\n",
      "[-0.7        -0.43283606  0.42203522]\n",
      "The sum-of-squared errors are:\n",
      "[5.5, 0.0, 0.0, 0.0, 0.0]\n"
     ]
    }
   ],
   "source": [
    "# Training the Perceptron\n",
    "#\n",
    "# Inputs\n",
    "# x:   feature data\n",
    "# y:   outputs \n",
    "# z:   threshold\n",
    "# eta: learning rate\n",
    "# t:   number of iterations\n",
    "\n",
    "# reshaping the data for the function\n",
    "x_train = train[:,0:3]\n",
    "y_train = train[:,3]\n",
    "\n",
    "x_test = test[:,0:3]\n",
    "y_test = test[:,3]\n",
    "\n",
    "\n",
    "def perceptron_train(x, y, z, eta, t):\n",
    "    \n",
    "    # Initializing parameters for the Perceptron\n",
    "    w = np.zeros(len(x[0]))        # initial weights \n",
    "    n = 0                          \n",
    "    \n",
    "    # Initializing additional parameters to compute sum-of-squared errors\n",
    "    yhat_vec = np.ones(len(y))     # vector for predictions\n",
    "    errors = np.ones(len(y))       # vector for errors (actual - predictions)\n",
    "    J = []                         # vector for the SSE cost function\n",
    "     \n",
    "        \n",
    "    while n < t:                             \n",
    "        for i in xrange(0, len(x)):                 \n",
    "            \n",
    "            # summation step\n",
    "            f = np.dot(x[i], w)          \n",
    "            \n",
    "            # activation function\n",
    "            if f >= z:                               \n",
    "                yhat = 1.                               \n",
    "            else:                                   \n",
    "                yhat = 0.\n",
    "            yhat_vec[i] = yhat \n",
    "            \n",
    "            # updating the weights\n",
    "            for j in xrange(0, len(w)):             \n",
    "                w[j] = w[j] + eta*(y[i]-yhat)*x[i][j]\n",
    "   \n",
    "        n += 1\n",
    "\n",
    "        # computing the sum-of-squared errors\n",
    "        for i in xrange(0,len(y)):     \n",
    "           errors[i] = (y[i]-yhat_vec[i])**2\n",
    "        J.append(0.5*np.sum(errors))\n",
    "     \n",
    "    return w, J\n",
    "\n",
    "\n",
    "z = 0.0     # threshold\n",
    "eta = 0.1   # learning rate\n",
    "t = 5       # number of iterations\n",
    "\n",
    "perceptron_train(x_train, y_train, z, eta, t)\n",
    "\n",
    "w = perceptron_train(x_train, y_train, z, eta, t)[0]\n",
    "J = perceptron_train(x_train, y_train, z, eta, t)[1]\n",
    "epoch = np.linspace(1,len(J),len(J))\n",
    "\n",
    "print \"The weights are:\"\n",
    "print w\n",
    "print \"The sum-of-squared errors are:\"\n",
    "print J"
   ]
  },
  {
   "cell_type": "markdown",
   "metadata": {
    "collapsed": true
   },
   "source": [
    "A plot of the model's convergence is also useful."
   ]
  },
  {
   "cell_type": "code",
   "execution_count": 10,
   "metadata": {
    "collapsed": false
   },
   "outputs": [
    {
     "data": {
      "text/plain": [
       "<matplotlib.text.Text at 0xbf46588>"
      ]
     },
     "execution_count": 10,
     "metadata": {},
     "output_type": "execute_result"
    },
    {
     "data": {
      "image/png": "[encoded data removed]",
      "text/plain": [
       "<matplotlib.figure.Figure at 0xbe268d0>"
      ]
     },
     "metadata": {},
     "output_type": "display_data"
    }
   ],
   "source": [
    "# plotting SSE as a function of epoch\n",
    "J = perceptron_train(x_train, y_train, z, eta, t)[1]\n",
    "epoch = np.linspace(1,len(J),len(J))\n",
    "\n",
    "plt.figure(1)\n",
    "plt.plot(epoch, J)\n",
    "plt.xlabel('Epoch')\n",
    "plt.ylabel('Sum-of-Squared Error')\n",
    "plt.title('Perceptron Convergence')"
   ]
  },
  {
   "cell_type": "markdown",
   "metadata": {},
   "source": [
    "###Testing the Model\n",
    "Next, we'll be testing the model.  "
   ]
  },
  {
   "cell_type": "code",
   "execution_count": 11,
   "metadata": {
    "collapsed": false
   },
   "outputs": [
    {
     "name": "stdout",
     "output_type": "stream",
     "text": [
      "1.0\n"
     ]
    }
   ],
   "source": [
    "from sklearn.metrics import accuracy_score\n",
    "\n",
    "w = perceptron_train(x_train, y_train, z, eta, t)[0]\n",
    "\n",
    "\n",
    "def perceptron_test(x, w, z, eta, t):\n",
    "    y_pred = []\n",
    "    for i in xrange(0, len(x-1)):\n",
    "        f = np.dot(x[i], w)   \n",
    "\n",
    "            # activation function\n",
    "        if f > z:                               \n",
    "            yhat = 1                               \n",
    "        else:                                   \n",
    "            yhat = 0 \n",
    "        y_pred.append(yhat)\n",
    "    return y_pred\n",
    "        \n",
    "y_pred = perceptron_test(x_test, w, z, eta, t)\n",
    "\n",
    "print accuracy_score(y_test, y_pred)\n"
   ]
  },
  {
   "cell_type": "markdown",
   "metadata": {
    "collapsed": true
   },
   "source": [
    "We can see that the model performed perfectly.  Since this is a pretty simple, linearly separable dataset, this isn't surprising.  Lets take a look at what the decision boundary looks like for this model."
   ]
  },
  {
   "cell_type": "code",
   "execution_count": 12,
   "metadata": {
    "collapsed": false
   },
   "outputs": [
    {
     "data": {
      "text/plain": [
       "[<matplotlib.lines.Line2D at 0x17351c88>]"
      ]
     },
     "execution_count": 12,
     "metadata": {},
     "output_type": "execute_result"
    },
    {
     "data": {
      "image/png": "[encoded data removed]",
      "text/plain": [
       "<matplotlib.figure.Figure at 0x17351cc0>"
      ]
     },
     "metadata": {},
     "output_type": "display_data"
    }
   ],
   "source": [
    "# plot the decision boundary\n",
    "# 0 = w0x0 + w1x1 + w2x2\n",
    "# x2 = (-w0x0-w1x1)/w2\n",
    "\n",
    "min = np.min(x_test[:,1])\n",
    "max = np.max(x_test[:,1])\n",
    "x1 = np.linspace(min,max,100)\n",
    "\n",
    "def x2(x1, w):\n",
    "    w0 = w[0]\n",
    "    w1 = w[1]\n",
    "    w2 = w[2]\n",
    "    x2 = []\n",
    "    for i in xrange(0, len(x1-1)):\n",
    "        x2_temp = (-w0-w1*x1[i])/w2\n",
    "        x2.append(x2_temp)\n",
    "    return x2\n",
    "    \n",
    "x_2 = np.asarray(x2(x1,w))\n",
    "\n",
    "plt.scatter(features[:,1], features[:,2], c = labels)\n",
    "plt.plot(x1, x_2)"
   ]
  },
  {
   "cell_type": "markdown",
   "metadata": {},
   "source": [
    "The plot of the decision boundary confirms that the model has clearly separated the two classes."
   ]
  },
  {
   "cell_type": "markdown",
   "metadata": {},
   "source": [
    "### Scikit-learn Model\n",
    "\n",
    "Based on the decision boundary, it looks like the model is working.  Another good check is to verify it with a trusted implementation from [scikit-learn](http://scikit-learn.org/stable/modules/generated/sklearn.linear_model.Perceptron.html).  To compare the models, I'll take a look at the weights for each model."
   ]
  },
  {
   "cell_type": "code",
   "execution_count": 13,
   "metadata": {
    "collapsed": false
   },
   "outputs": [
    {
     "name": "stdout",
     "output_type": "stream",
     "text": [
      "sklearn weights:\n",
      "[-0.7        -0.43283606  0.42203522]\n",
      "my perceptron weights:\n",
      "[-0.7        -0.43283606  0.42203522]\n"
     ]
    }
   ],
   "source": [
    "from sklearn.linear_model import Perceptron\n",
    "\n",
    "# training the sklearn Perceptron\n",
    "clf = Perceptron(random_state=None, eta0= 0.1, shuffle=False, fit_intercept=False)\n",
    "clf.fit(x_train, y_train)\n",
    "y_predict = clf.predict(x_test)\n",
    "\n",
    "print \"sklearn weights:\"\n",
    "print clf.coef_[0]\n",
    "\n",
    "print \"my perceptron weights:\"\n",
    "print w"
   ]
  },
  {
   "cell_type": "markdown",
   "metadata": {},
   "source": [
    "The scikit-learn implementation yielded identical weights to my model.  This isn't surprising given the clear separability of the two datasets.  \n",
    "\n",
    "I did have to manipulate a few details in the scikit-learn model though.  I turned off the random state and the shuffle option so that the scikit-learn Perceptron would use the same random seed that I set for my model.  I also set the learning rate to the same number as my perceptron.  Finally, I turned of the fit_intercept option.  Since I included the dummy column of ones in the dataset, I'm automatically fitting the intercept, so I don't need this option turned on."
   ]
  },
  {
   "cell_type": "markdown",
   "metadata": {},
   "source": [
    "## Conclusion\n",
    "In this article I built a Perceptron model from scratch in Python.  Compared to the scikit-learn implementation, my model yielded identical results.  In a real life problem would I use my model over something from scikit-learn? Probably not.  My model is not nearly as optimized or robust as the scikit-learn implementation.  The real value in building a model from scratch is gaining a deeper understanding of how an algorithm actually works.  Understanding the underlying assumptions and limitations is extremely important when applying a machine learning model."
   ]
  }
 ],
 "metadata": {
  "kernelspec": {
   "display_name": "Python 2",
   "language": "python",
   "name": "python2"
  },
  "language_info": {
   "codemirror_mode": {
    "name": "ipython",
    "version": 2
   },
   "file_extension": ".py",
   "mimetype": "text/x-python",
   "name": "python",
   "nbconvert_exporter": "python",
   "pygments_lexer": "ipython2",
   "version": "2.7.10"
  }
 },
 "nbformat": 4,
 "nbformat_minor": 0
}
